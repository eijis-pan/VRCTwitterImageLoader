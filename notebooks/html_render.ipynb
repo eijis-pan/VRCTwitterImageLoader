{
 "cells": [
  {
   "cell_type": "code",
   "execution_count": 1,
   "metadata": {},
   "outputs": [],
   "source": [
    "import time\n",
    "import os\n",
    "import urllib.request\n",
    "import json\n",
    "from IPython.display import HTML\n",
    "from selenium import webdriver\n",
    "from selenium.webdriver.chrome.service import Service\n",
    "from PIL import Image\n",
    "from io import BytesIO"
   ]
  },
  {
   "cell_type": "code",
   "execution_count": 2,
   "metadata": {},
   "outputs": [],
   "source": [
    "def get_tweet_embedcode(tweet_url):\n",
    "    try:\n",
    "        with urllib.request.urlopen(\n",
    "            f\"https://publish.twitter.com/oembed?url={tweet_url}\"\n",
    "        ) as url:\n",
    "            data = json.loads(url.read().decode())\n",
    "            return data[\"html\"]\n",
    "    except BaseException:\n",
    "        return \"\""
   ]
  },
  {
   "cell_type": "code",
   "execution_count": 5,
   "metadata": {},
   "outputs": [
    {
     "data": {
      "text/plain": [
       "'<blockquote class=\"twitter-tweet\"><p lang=\"ja\" dir=\"ltr\">──私は見つけられなかった...<br><br>『Cocytus』<br><br>コキュートスと名付けられた霧深い荒野。同名を持つ地獄の名所とは少し様子が異なる。<br><br>鋭い石柱が無数に林立しており、所々に人の痕跡が見つかる。何か地下にあるようだが、その入り口は秘匿されている。本当にあるのだろうか...<a href=\"https://twitter.com/hashtag/Quest%E6%95%A3%E6%AD%A9?src=hash&amp;ref_src=twsrc%5Etfw\">#Quest散歩</a> <a href=\"https://twitter.com/hashtag/VRChat?src=hash&amp;ref_src=twsrc%5Etfw\">#VRChat</a> <a href=\"https://t.co/CXbQFPMWOu\">pic.twitter.com/CXbQFPMWOu</a></p>&mdash; H5-T4／ティー (@H5T42) <a href=\"https://twitter.com/H5T42/status/1803982291984879796?ref_src=twsrc%5Etfw\">June 21, 2024</a></blockquote>\\n<script async src=\"https://platform.twitter.com/widgets.js\" charset=\"utf-8\"></script>\\n\\n'"
      ]
     },
     "execution_count": 5,
     "metadata": {},
     "output_type": "execute_result"
    }
   ],
   "source": [
    "get_tweet_embedcode(\"https://twitter.com/H5T42/status/1803982291984879796\")"
   ]
  },
  {
   "cell_type": "code",
   "execution_count": 4,
   "metadata": {},
   "outputs": [
    {
     "data": {
      "text/html": [
       "<blockquote class=\"twitter-tweet\"><p lang=\"ja\" dir=\"ltr\">──私は見つけられなかった...<br><br>『Cocytus』<br><br>コキュートスと名付けられた霧深い荒野。同名を持つ地獄の名所とは少し様子が異なる。<br><br>鋭い石柱が無数に林立しており、所々に人の痕跡が見つかる。何か地下にあるようだが、その入り口は秘匿されている。本当にあるのだろうか...<a href=\"https://twitter.com/hashtag/Quest%E6%95%A3%E6%AD%A9?src=hash&amp;ref_src=twsrc%5Etfw\">#Quest散歩</a> <a href=\"https://twitter.com/hashtag/VRChat?src=hash&amp;ref_src=twsrc%5Etfw\">#VRChat</a> <a href=\"https://t.co/CXbQFPMWOu\">pic.twitter.com/CXbQFPMWOu</a></p>&mdash; H5-T4／ティー (@H5T42) <a href=\"https://twitter.com/H5T42/status/1803982291984879796?ref_src=twsrc%5Etfw\">June 21, 2024</a></blockquote>\n",
       "<script async src=\"https://platform.twitter.com/widgets.js\" charset=\"utf-8\"></script>\n",
       "\n"
      ],
      "text/plain": [
       "<IPython.core.display.HTML object>"
      ]
     },
     "execution_count": 4,
     "metadata": {},
     "output_type": "execute_result"
    }
   ],
   "source": [
    "HTML(get_tweet_embedcode(\"https://twitter.com/H5T42/status/1803982291984879796\"))"
   ]
  },
  {
   "cell_type": "code",
   "execution_count": 55,
   "metadata": {},
   "outputs": [],
   "source": [
    "def save_html_as_png(converted_urls, chromedriver_path, file_name=\"tweet.html\"):\n",
    "    for index, render_url in enumerate(converted_urls):\n",
    "        html_content = get_tweet_embedcode(render_url)\n",
    "\n",
    "        with open(file_name, \"w\", encoding=\"utf-8\") as file:\n",
    "            file.write(html_content)\n",
    "\n",
    "        # WebDriverのServiceオブジェクトを作成\n",
    "        service = Service(chromedriver_path)\n",
    "\n",
    "        # WebDriver設定（ヘッドレスモードでブラウザを起動）\n",
    "        options = webdriver.ChromeOptions()\n",
    "        # options.add_argument(\"--headless\")\n",
    "\n",
    "        driver = webdriver.Chrome(service=service, options=options)\n",
    "\n",
    "        # Open the local HTML file\n",
    "        local_url = \"file://\" + os.path.abspath(file_name)\n",
    "        driver.get(local_url)\n",
    "\n",
    "        # ウィンドウサイズ設定\n",
    "        driver.set_window_size(400, 1600)\n",
    "\n",
    "        # Give some time for the tweet to load completely\n",
    "        time.sleep(20)\n",
    "\n",
    "        # # Take a screenshot and save it as a PNG image\n",
    "        # driver.save_screenshot(output_path)\n",
    "\n",
    "        # スクリーンショットをPNG形式のバイナリデータとして取得\n",
    "        screenshot_png = driver.get_screenshot_as_png()\n",
    "\n",
    "        # バイナリデータからPIL.Imageオブジェクトを生成\n",
    "        img = Image.open(BytesIO(screenshot_png))\n",
    "\n",
    "        # 画像のサイズ取得\n",
    "        width, height = img.size\n",
    "\n",
    "        # 下のピクセルをカット\n",
    "        left = 0\n",
    "        top = 0\n",
    "        right = width\n",
    "        bottom = height - 1120\n",
    "        cropped_img = img.crop((left, top, right, bottom))\n",
    "\n",
    "        # 加工後の画像を保存\n",
    "        # cropped_img.save(f\"src/twitter/pages/images/cropped_screenshot_{index}.png\")\n",
    "        cropped_img.save(f\"images/cropped_screenshot_{index}.png\")\n",
    "\n",
    "        # Close the browser\n",
    "        driver.quit()\n",
    "\n",
    "    return"
   ]
  },
  {
   "cell_type": "code",
   "execution_count": 52,
   "metadata": {},
   "outputs": [],
   "source": [
    "converted_urls = [\n",
    "    \"https://twitter.com/H5T42/status/1724302940083810359\",\n",
    "    \"https://twitter.com/H5T42/status/1730781562210554311\",\n",
    "]"
   ]
  },
  {
   "cell_type": "code",
   "execution_count": 53,
   "metadata": {},
   "outputs": [],
   "source": [
    "# tweet_html = get_tweet_embedcode(\"https://twitter.com/H5T42/status/1724302940083810359\")\n",
    "chromedriver_path = \"./chromedriver/chromedriver.exe\"\n",
    "# output_path=\"image/tweet.png\""
   ]
  },
  {
   "cell_type": "code",
   "execution_count": null,
   "metadata": {},
   "outputs": [],
   "source": [
    "tweet_html = get_tweet_embedcode(\"https://twitter.com/H5T42/status/1730781562210554311\")"
   ]
  },
  {
   "cell_type": "code",
   "execution_count": 56,
   "metadata": {},
   "outputs": [],
   "source": [
    "save_html_as_png(converted_urls=converted_urls, chromedriver_path=chromedriver_path)"
   ]
  },
  {
   "cell_type": "code",
   "execution_count": null,
   "metadata": {},
   "outputs": [],
   "source": []
  }
 ],
 "metadata": {
  "kernelspec": {
   "display_name": ".venv",
   "language": "python",
   "name": "python3"
  },
  "language_info": {
   "codemirror_mode": {
    "name": "ipython",
    "version": 3
   },
   "file_extension": ".py",
   "mimetype": "text/x-python",
   "name": "python",
   "nbconvert_exporter": "python",
   "pygments_lexer": "ipython3",
   "version": "3.11.6"
  }
 },
 "nbformat": 4,
 "nbformat_minor": 2
}
